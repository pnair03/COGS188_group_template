{
 "cells": [
  {
   "cell_type": "markdown",
   "metadata": {},
   "source": [
    "# COGS 118B - Final Project"
   ]
  },
  {
   "cell_type": "markdown",
   "metadata": {},
   "source": [
    "# DQN on Ms Pacman\n",
    "\n",
    "## Group members\n",
    "\n",
    "- Pelé\n",
    "- Diego Maradonna\n",
    "- Johan Cruyff\n",
    "- Roberto Carlos\n",
    "- Franz Beckenbaur"
   ]
  },
  {
   "cell_type": "markdown",
   "metadata": {},
   "source": [
    "# Abstract \n",
    "This section should be short and clearly stated. It should be a single paragraph <200 words.  It should summarize: \n",
    "- what your goal/problem is\n",
    "- what the data used represents \n",
    "- the solution/what you did\n",
    "- major results you came up with (mention how results are measured) \n",
    "\n",
    "__NB:__ this final project form is much more report-like than the proposal and the checkpoint. Think in terms of writing a paper with bits of code in the middle to make the plots/tables"
   ]
  },
  {
   "cell_type": "markdown",
   "metadata": {},
   "source": [
    "# Background\n",
    "\n",
    "Fill in the background and discuss the kind of prior work that has gone on in this research area here. **Use inline citation** to specify which references support which statements.  You can do that through HTML footnotes (demonstrated here). I used to reccommend Markdown footnotes (google is your friend) because they are simpler but recently I have had some problems with them working for me whereas HTML ones always work so far. So use the method that works for you, but do use inline citations.\n",
    "\n",
    "Here is an example of inline citation. After government genocide in the 20th century, real birds were replaced with surveillance drones designed to look just like birds<a name=\"lorenz\"></a>[<sup>[1]</sup>](#lorenznote). Use a minimum of 2 or 3 citations, but we prefer more <a name=\"admonish\"></a>[<sup>[2]</sup>](#admonishnote). You need enough citations to fully explain and back up important facts. \n",
    "\n",
    "Remeber you are trying to explain why someone would want to answer your question or why your hypothesis is in the form that you've stated. "
   ]
  },
  {
   "cell_type": "markdown",
   "metadata": {},
   "source": [
    "# Problem Statement\n",
    "\n",
    "Clearly describe the problem that you are solving. Avoid ambiguous words. The problem described should be well defined and should have at least one ML-relevant potential solution. Additionally, describe the problem thoroughly such that it is clear that the problem is quantifiable (the problem can be expressed in mathematical or logical terms), measurable (the problem can be measured by some metric and clearly observed), and replicable (the problem can be reproduced and occurs more than once)."
   ]
  },
  {
   "cell_type": "markdown",
   "metadata": {},
   "source": [
    "# Data\n",
    "\n",
    "Detail how/where you obtained the data and cleaned it (if necessary)\n",
    "\n",
    "If the data cleaning process is very long (e.g., elaborate text processing) consider describing it briefly here in text, and moving the actual clearning process to another notebook in your repo (include a link here!).  The idea behind this approach: this is a report, and if you blow up the flow of the report to include a lot of code it makes it hard to read.\n",
    "\n",
    "Please give the following infomration for each dataset you are using\n",
    "- link/reference to obtain it\n",
    "- description of the size of the dataset (# of variables, # of observations)\n",
    "- what an observation consists of\n",
    "- what some critical variables are, how they are represented\n",
    "- any special handling, transformations, cleaning, etc you have done should be demonstrated here!\n"
   ]
  },
  {
   "cell_type": "markdown",
   "metadata": {},
   "source": [
    "# Proposed Solution\n",
    "\n",
    "In this section, clearly describe a solution to the problem. The solution should be applicable to the project domain and appropriate for the dataset(s) or input(s) given. Provide enough detail (e.g., algorithmic description and/or theoretical properties) to convince us that your solution is applicable. Make sure to describe how the solution will be tested.  \n",
    "\n",
    "If you know details already, describe how (e.g., library used, function calls) you plan to implement the solution in a way that is reproducible.\n",
    "\n",
    "If it is appropriate to the problem statement, describe a benchmark model<a name=\"sota\"></a>[<sup>[3]</sup>](#sotanote) against which your solution will be compared. "
   ]
  },
  {
   "cell_type": "markdown",
   "metadata": {},
   "source": [
    "# Evaluation Metrics\n",
    "\n",
    "Propose at least one evaluation metric that can be used to quantify the performance of both the benchmark model and the solution model. The evaluation metric(s) you propose should be appropriate given the context of the data, the problem statement, and the intended solution. Describe how the evaluation metric(s) are derived and provide an example of their mathematical representations (if applicable). Complex evaluation metrics should be clearly defined and quantifiable (can be expressed in mathematical or logical terms)."
   ]
  },
  {
   "cell_type": "markdown",
   "metadata": {},
   "source": [
    "# Results\n",
    "\n",
    "You may have done tons of work on this. Not all of it belongs here. \n",
    "\n",
    "Reports should have a __narrative__. Once you've looked through all your results over the quarter, decide on one main point and 2-4 secondary points you want us to understand. Include the detailed code and analysis results of those points only; you should spend more time/code/plots on your main point than the others.\n",
    "\n",
    "If you went down any blind alleys that you later decided to not pursue, please don't abuse the TAs time by throwing in 81 lines of code and 4 plots related to something you actually abandoned.  Consider deleting things that are not important to your narrative.  If its slightly relevant to the narrative or you just want us to know you tried something, you could keep it in by summarizing the result in this report in a sentence or two, moving the actual analysis to another file in your repo, and providing us a link to that file.\n",
    "\n",
    "### Subsection 1\n",
    "\n",
    "You will likely have different subsections as you go through your report. For instance you might start with an analysis of the dataset/problem and from there you might be able to draw out the kinds of algorithms that are / aren't appropriate to tackle the solution.  Or something else completely if this isn't the way your project works.\n",
    "\n",
    "### Subsection 2\n",
    "\n",
    "Another likely section is if you are doing any feature selection through cross-validation or hand-design/validation of features/transformations of the data\n",
    "\n",
    "### Subsection 3\n",
    "\n",
    "Probably you need to describe the base model and demonstrate its performance.  Maybe you include a learning curve to show whether you have enough data to do train/validate/test split or have to go to k-folds or LOOCV or ???\n",
    "\n",
    "### Subsection 4\n",
    "\n",
    "Perhaps some exploration of the model selection (hyper-parameters) or algorithm selection task. Validation curves, plots showing the variability of perfromance across folds of the cross-validation, etc. If you're doing one, the outcome of the null hypothesis test or parsimony principle check to show how you are selecting the best model.\n",
    "\n",
    "### Subsection 5 \n",
    "\n",
    "Maybe you do model selection again, but using a different kind of metric than before?\n",
    "\n"
   ]
  },
  {
   "cell_type": "code",
   "execution_count": 1,
   "metadata": {},
   "outputs": [
    {
     "name": "stdout",
     "output_type": "stream",
     "text": [
      "You are using mps\n"
     ]
    }
   ],
   "source": [
    "# import necessary libraries\n",
    "import gymnasium as gym\n",
    "from gymnasium.wrappers import AtariPreprocessing, FrameStack\n",
    "import torch\n",
    "import torch.nn as nn\n",
    "import torch.optim as optim\n",
    "import numpy as np\n",
    "import random\n",
    "from collections import deque, namedtuple\n",
    "import matplotlib.pyplot as plt\n",
    "import torch.nn.functional as F\n",
    "import os\n",
    "\n",
    "if torch.cuda.is_available():\n",
    "    device = torch.device('cuda')\n",
    "elif torch.backends.mps.is_available():\n",
    "    device = torch.device('mps')\n",
    "else:\n",
    "    device = torch.device('cpu')\n",
    "print(f'You are using {device}')"
   ]
  },
  {
   "cell_type": "code",
   "execution_count": 2,
   "metadata": {},
   "outputs": [
    {
     "name": "stderr",
     "output_type": "stream",
     "text": [
      "A.L.E: Arcade Learning Environment (version 0.8.1+53f58b7)\n",
      "[Powered by Stella]\n"
     ]
    }
   ],
   "source": [
    "# Hyperparameters\n",
    "state_size = env.observation_space.shape\n",
    "action_size = env.action_space.n\n",
    "buffer_size = 100000\n",
    "batch_size = 32\n",
    "tau = 0.001\n",
    "n_episodes = 1000\n",
    "max_t = 1000\n",
    "eps_start = 1\n",
    "eps_end = 0.01\n",
    "eps_decay = (eps_end/eps_start)**(1/n_episodes)\n",
    "\n",
    "# Define the MsPacman environment with render_mode\n",
    "env = gym.make('ALE/MsPacman-v5', render_mode='rgb_array')\n",
    "env = AtariPreprocessing(env, frame_skip=1)\n",
    "env = FrameStack(env, 4)\n",
    "\n",
    "# Normalize function for preprocessing state\n",
    "def normalize(state):\n",
    "    return np.array(state) / 255.0"
   ]
  },
  {
   "cell_type": "code",
   "execution_count": 3,
   "metadata": {},
   "outputs": [],
   "source": [
    "class QNetwork(nn.Module):\n",
    "    \"\"\"Neural Network for approximating Q-values.\"\"\"\n",
    "    def __init__(self, state_shape, action_size):\n",
    "        super(QNetwork, self).__init__()\n",
    "        self.conv_layers = nn.Sequential(\n",
    "            nn.Conv2d(in_channels=4, out_channels=32, kernel_size=8, stride=4),\n",
    "            nn.ReLU(),\n",
    "            nn.Conv2d(in_channels=32, out_channels=64, kernel_size=4, stride=2),\n",
    "            nn.ReLU(),\n",
    "            nn.Conv2d(in_channels=64, out_channels=64, kernel_size=3, stride=1),\n",
    "            nn.ReLU()\n",
    "        )\n",
    "        self.fc_input_size = self._get_conv_output(state_shape)\n",
    "        self.fc_layers = nn.Sequential(\n",
    "            nn.Linear(self.fc_input_size, 512),\n",
    "            nn.ReLU(),\n",
    "            nn.Linear(512, action_size)\n",
    "        )\n",
    "    \n",
    "    def _get_conv_output(self, shape):\n",
    "        o = torch.zeros(1, *shape)\n",
    "        o = self.conv_layers(o)\n",
    "        return int(np.prod(o.size()))\n",
    "    \n",
    "    def forward(self, state):\n",
    "        x = self.conv_layers(state)\n",
    "        x = x.view(x.size(0), -1)\n",
    "        x = self.fc_layers(x)\n",
    "        return x"
   ]
  },
  {
   "cell_type": "code",
   "execution_count": 4,
   "metadata": {},
   "outputs": [],
   "source": [
    "class ReplayBuffer:\n",
    "    \"\"\"Fixed-size buffer to store experience tuples.\"\"\"\n",
    "    def __init__(self, action_size, buffer_size, batch_size):\n",
    "        self.action_size = action_size\n",
    "        self.memory = deque(maxlen=buffer_size)\n",
    "        self.batch_size = batch_size\n",
    "        self.experience = namedtuple(\"Experience\", field_names=[\"state\", \"action\", \"reward\", \"next_state\", \"done\"])\n",
    "\n",
    "    def add(self, state, action, reward, next_state, done):\n",
    "        experience = self.experience(state, action, reward, next_state, done)\n",
    "        self.memory.append(experience)\n",
    "\n",
    "\n",
    "    def sample(self):\n",
    "        \"\"\"Randomly sample a batch of experiences from memory.\"\"\"\n",
    "        \n",
    "        experiences = random.sample(self.memory, k=self.batch_size)\n",
    "        states = torch.from_numpy(np.array([e.state for e in experiences if e is not None])).float().to(device)\n",
    "        actions = torch.from_numpy(np.vstack([e.action for e in experiences if e is not None])).long().to(device)\n",
    "        rewards = torch.from_numpy(np.vstack([e.reward for e in experiences if e is not None])).float().to(device)\n",
    "        next_states = torch.from_numpy(np.array([e.next_state for e in experiences if e is not None])).float().to(device)\n",
    "        dones = torch.from_numpy(np.vstack([e.done for e in experiences if e is not None])).float().to(device)\n",
    "        \n",
    "        return (states, actions, rewards, next_states, dones)\n",
    "\n",
    "    def __len__(self):\n",
    "        return len(self.memory)"
   ]
  },
  {
   "cell_type": "code",
   "execution_count": 5,
   "metadata": {},
   "outputs": [],
   "source": [
    "class DQNAgent:\n",
    "    \"\"\"Interacts with and learns from the environment.\"\"\"\n",
    "    def __init__(self, state_size, action_size):\n",
    "        self.state_size = state_size\n",
    "        self.action_size = action_size\n",
    "        self.qnetwork_local = QNetwork(state_size, action_size).to(device)\n",
    "        self.qnetwork_target = QNetwork(state_size, action_size).to(device)\n",
    "        self.optimizer = optim.Adam(self.qnetwork_local.parameters())\n",
    "        self.memory = ReplayBuffer(action_size, buffer_size, batch_size)\n",
    "        self.t_step = 0\n",
    "\n",
    "    def step(self, state, action, reward, next_state, done):\n",
    "        self.memory.add(state, action, reward, next_state, done)\n",
    "        self.t_step = (self.t_step + 1) % 4\n",
    "        if self.t_step == 0:\n",
    "            if len(self.memory) > self.memory.batch_size:\n",
    "                experiences = self.memory.sample()\n",
    "                self.learn(experiences, gamma=0.99)\n",
    "\n",
    "    def act(self, state, eps=0.99):\n",
    "        state = torch.from_numpy(normalize(state)).float().unsqueeze(0).to(device)\n",
    "        self.qnetwork_local.eval()\n",
    "        with torch.no_grad():\n",
    "            action_values = self.qnetwork_local(state)\n",
    "        self.qnetwork_local.train()\n",
    "        if random.random() > eps:\n",
    "            return np.argmax(action_values.cpu().data.numpy())\n",
    "        else:\n",
    "            return random.choice(np.arange(self.action_size))\n",
    "    \n",
    "\n",
    "    def learn(self, experiences, gamma):\n",
    "        states, actions, rewards, next_states, dones = experiences\n",
    "\n",
    "        # Compute Q targets for next states\n",
    "        q_target_next = self.qnetwork_target(next_states).detach().max(1)[0].unsqueeze(1)\n",
    "        q_target = rewards + (gamma * q_target_next * (1 - dones))\n",
    "\n",
    "        # Compute Q expected for current states\n",
    "        q_expected = self.qnetwork_local(states).gather(1, actions)\n",
    "\n",
    "        # Compute loss\n",
    "        loss = F.mse_loss(q_expected, q_target)\n",
    "\n",
    "        # Optimize the model\n",
    "        self.optimizer.zero_grad()\n",
    "        loss.backward()\n",
    "        self.optimizer.step()\n",
    "\n",
    "        # Soft update target network parameters\n",
    "        self.soft_update(self.qnetwork_local, self.qnetwork_target, tau)\n",
    "\n",
    "    def soft_update(self, local_model, target_model, tau):\n",
    "        \"\"\"Soft update model parameters.\n",
    "        θ_target = τ*θ_local + (1 - τ)*θ_target\n",
    "        \"\"\"\n",
    "        for target_param, local_param in zip(target_model.parameters(), local_model.parameters()):\n",
    "            target_param.data.copy_(tau * local_param.data + (1.0 - tau) * target_param.data)"
   ]
  },
  {
   "cell_type": "code",
   "execution_count": 6,
   "metadata": {},
   "outputs": [
    {
     "data": {
      "text/plain": [
       "<All keys matched successfully>"
      ]
     },
     "execution_count": 6,
     "metadata": {},
     "output_type": "execute_result"
    }
   ],
   "source": [
    "#Function to save necessary torch files to future training\n",
    "def save_checkpoint(agent, filename='checkpoint.pth'):\n",
    "    torch.save({\n",
    "        'qnetwork_local_state_dict': agent.qnetwork_local.state_dict(),\n",
    "        'qnetwork_target_state_dict': agent.qnetwork_target.state_dict(),\n",
    "        'optimizer_state_dict': agent.optimizer.state_dict()\n",
    "    }, filename)\n",
    "\n",
    "#Function to load necessary torch files for training or using pre-trained model\n",
    "def load_checkpoint(agent, filename='checkpoint.pth'):\n",
    "    checkpoint = torch.load(filename)\n",
    "    agent.qnetwork_local.load_state_dict(checkpoint['qnetwork_local_state_dict'])\n",
    "    agent.qnetwork_target.load_state_dict(checkpoint['qnetwork_target_state_dict'])\n",
    "    agent.optimizer.load_state_dict(checkpoint['optimizer_state_dict'])"
   ]
  },
  {
   "cell_type": "code",
   "execution_count": 7,
   "metadata": {},
   "outputs": [],
   "source": [
    "def dqn(n_episodes=500, max_t=1000, eps_start=1, eps_end=0.01, eps_decay=(0.01/1)**(1/500)):\n",
    "    scores = []\n",
    "    scores_window = deque(maxlen=100)\n",
    "    eps = eps_start\n",
    "    moving_avg_scores = []\n",
    "\n",
    "    for i_episode in range(1, n_episodes+1):\n",
    "        state, _ = env.reset()  # Unpack the state from the reset method\n",
    "        state = normalize(state)\n",
    "        score = 0\n",
    "        lives = env.unwrapped.ale.lives()  # Get the initial number of lives\n",
    "\n",
    "        for t in range(max_t):\n",
    "            action = agent.act(state, eps)\n",
    "            next_state, reward, done, _, _ = env.step(action)  # Unpack the state from the step method\n",
    "            next_state = normalize(next_state)\n",
    "            agent.step(state, action, reward, next_state, done)\n",
    "            state = next_state\n",
    "            score += reward\n",
    "\n",
    "            # Check if lives have changed\n",
    "            if env.unwrapped.ale.lives() < lives:\n",
    "                lives = env.unwrapped.ale.lives()  # Update the number of lives\n",
    "                if lives == 0:  # If all lives are lost, break the loop\n",
    "                    done = True\n",
    "                else:\n",
    "                    done = False\n",
    "            if done:\n",
    "                print(f\"Took {t} steps until Agent ran out of lives\")\n",
    "                break\n",
    "\n",
    "        scores_window.append(score)\n",
    "        moving_avg_scores.append(np.mean(scores_window))\n",
    "        scores.append(score)\n",
    "        eps = max(eps_end, eps_decay*eps)\n",
    "        print(f'Episode {i_episode}, Avg Score: {np.mean(scores_window)}')\n",
    "        #termination early condition\n",
    "        if np.mean(scores_window) >= 1000.0:\n",
    "            print(f'\\nEnvironment solved in {i_episode} episodes!\\tAverage Score: {np.mean(scores_window)}')\n",
    "            save_checkpoint(agent, \"checkpoint.pth\")\n",
    "            break\n",
    "\n",
    "    save_checkpoint(agent, \"checkpoint.pth\")\n",
    "    return scores, moving_avg_scores"
   ]
  },
  {
   "cell_type": "code",
   "execution_count": 8,
   "metadata": {},
   "outputs": [],
   "source": [
    "def plot_scores(scores, moving_avg_scores):\n",
    "    fig = plt.figure()\n",
    "    ax = fig.add_subplot(111)\n",
    "    ax.plot(np.arange(len(scores)), scores, label='Scores', color='blue')\n",
    "    ax.plot(np.arange(len(moving_avg_scores)), moving_avg_scores, label='Moving Average Scores', color='red')\n",
    "    ax.legend()\n",
    "    plt.ylabel('Score')\n",
    "    plt.xlabel('Episode #')\n",
    "    plt.show()\n",
    "    fig.savefig('training_scores.png')\n",
    "\n",
    "def create_video(agent, env, filename=\"mspacman.mp4\"):\n",
    "    video_env = gym.wrappers.RecordVideo(env, './video', episode_trigger=lambda x: True, video_length=0)\n",
    "    state, _ = video_env.reset()\n",
    "    state = normalize(state)\n",
    "    done = False\n",
    "    while not done:\n",
    "        action = agent.act(state, eps=0.0)  # Use greedy policy for evaluation\n",
    "        state, reward, done, _, _ = video_env.step(action)\n",
    "        state = normalize(state)\n",
    "    video_env.close()\n",
    "    video_dir = './video'\n",
    "    video_file = [f for f in os.listdir(video_dir) if f.endswith('.mp4')][0]\n",
    "    os.rename(os.path.join(video_dir, video_file), filename)"
   ]
  },
  {
   "cell_type": "code",
   "execution_count": null,
   "metadata": {},
   "outputs": [],
   "source": [
    "agent = DQNAgent(state_size=state_size, action_size=action_size)\n",
    "\n",
    "#Uncomment below code if you want to run the code with pretrained-model\n",
    "#load_checkpoint(agent, \"checkpoint.pth\")"
   ]
  },
  {
   "cell_type": "code",
   "execution_count": 9,
   "metadata": {},
   "outputs": [
    {
     "name": "stdout",
     "output_type": "stream",
     "text": [
      "Took 517 steps until Agent ran out of lives\n",
      "Episode 1, Avg Score: 220.0\n",
      "Took 389 steps until Agent ran out of lives\n",
      "Episode 2, Avg Score: 240.0\n",
      "Took 596 steps until Agent ran out of lives\n",
      "Episode 3, Avg Score: 300.0\n",
      "Took 462 steps until Agent ran out of lives\n",
      "Episode 4, Avg Score: 272.5\n",
      "Took 538 steps until Agent ran out of lives\n",
      "Episode 5, Avg Score: 286.0\n",
      "Took 493 steps until Agent ran out of lives\n",
      "Episode 6, Avg Score: 275.0\n",
      "Took 463 steps until Agent ran out of lives\n",
      "Episode 7, Avg Score: 267.14285714285717\n",
      "Took 470 steps until Agent ran out of lives\n",
      "Episode 8, Avg Score: 273.75\n",
      "Took 428 steps until Agent ran out of lives\n",
      "Episode 9, Avg Score: 257.77777777777777\n",
      "Took 476 steps until Agent ran out of lives\n",
      "Episode 10, Avg Score: 254.0\n",
      "Took 537 steps until Agent ran out of lives\n",
      "Episode 11, Avg Score: 250.9090909090909\n",
      "Took 461 steps until Agent ran out of lives\n",
      "Episode 12, Avg Score: 251.66666666666666\n",
      "Took 609 steps until Agent ran out of lives\n",
      "Episode 13, Avg Score: 260.0\n",
      "Took 328 steps until Agent ran out of lives\n",
      "Episode 14, Avg Score: 254.28571428571428\n",
      "Took 490 steps until Agent ran out of lives\n",
      "Episode 15, Avg Score: 255.33333333333334\n",
      "Took 573 steps until Agent ran out of lives\n",
      "Episode 16, Avg Score: 263.75\n",
      "Took 460 steps until Agent ran out of lives\n",
      "Episode 17, Avg Score: 256.47058823529414\n",
      "Took 467 steps until Agent ran out of lives\n",
      "Episode 18, Avg Score: 258.8888888888889\n",
      "Took 393 steps until Agent ran out of lives\n",
      "Episode 19, Avg Score: 253.68421052631578\n",
      "Took 572 steps until Agent ran out of lives\n",
      "Episode 20, Avg Score: 257.0\n",
      "Took 500 steps until Agent ran out of lives\n",
      "Episode 21, Avg Score: 256.6666666666667\n",
      "Took 530 steps until Agent ran out of lives\n",
      "Episode 22, Avg Score: 256.3636363636364\n",
      "Took 446 steps until Agent ran out of lives\n",
      "Episode 23, Avg Score: 253.47826086956522\n",
      "Took 389 steps until Agent ran out of lives\n",
      "Episode 24, Avg Score: 247.5\n",
      "Took 391 steps until Agent ran out of lives\n",
      "Episode 25, Avg Score: 246.0\n",
      "Took 307 steps until Agent ran out of lives\n",
      "Episode 26, Avg Score: 240.76923076923077\n",
      "Took 481 steps until Agent ran out of lives\n",
      "Episode 27, Avg Score: 242.96296296296296\n",
      "Took 469 steps until Agent ran out of lives\n",
      "Episode 28, Avg Score: 243.57142857142858\n",
      "Took 364 steps until Agent ran out of lives\n",
      "Episode 29, Avg Score: 241.3793103448276\n"
     ]
    },
    {
     "ename": "KeyboardInterrupt",
     "evalue": "",
     "output_type": "error",
     "traceback": [
      "\u001b[0;31m---------------------------------------------------------------------------\u001b[0m",
      "\u001b[0;31mKeyboardInterrupt\u001b[0m                         Traceback (most recent call last)",
      "Cell \u001b[0;32mIn[9], line 2\u001b[0m\n\u001b[1;32m      1\u001b[0m \u001b[38;5;66;03m#Runs the training DQN training loop\u001b[39;00m\n\u001b[0;32m----> 2\u001b[0m scores, moving_avg_scores \u001b[38;5;241m=\u001b[39m dqn()\n\u001b[1;32m      4\u001b[0m \u001b[38;5;66;03m# Plots the scores and moving averages\u001b[39;00m\n\u001b[1;32m      5\u001b[0m plot_scores(scores, moving_avg_scores)\n",
      "Cell \u001b[0;32mIn[7], line 17\u001b[0m, in \u001b[0;36mdqn\u001b[0;34m(n_episodes, max_t, eps_start, eps_end, eps_decay)\u001b[0m\n\u001b[1;32m     15\u001b[0m next_state, reward, done, _, _ \u001b[38;5;241m=\u001b[39m env\u001b[38;5;241m.\u001b[39mstep(action)  \u001b[38;5;66;03m# Unpack the state from the step method\u001b[39;00m\n\u001b[1;32m     16\u001b[0m next_state \u001b[38;5;241m=\u001b[39m normalize(next_state)\n\u001b[0;32m---> 17\u001b[0m agent\u001b[38;5;241m.\u001b[39mstep(state, action, reward, next_state, done)\n\u001b[1;32m     18\u001b[0m state \u001b[38;5;241m=\u001b[39m next_state\n\u001b[1;32m     19\u001b[0m score \u001b[38;5;241m+\u001b[39m\u001b[38;5;241m=\u001b[39m reward\n",
      "Cell \u001b[0;32mIn[5], line 18\u001b[0m, in \u001b[0;36mDQNAgent.step\u001b[0;34m(self, state, action, reward, next_state, done)\u001b[0m\n\u001b[1;32m     16\u001b[0m \u001b[38;5;28;01mif\u001b[39;00m \u001b[38;5;28mlen\u001b[39m(\u001b[38;5;28mself\u001b[39m\u001b[38;5;241m.\u001b[39mmemory) \u001b[38;5;241m>\u001b[39m \u001b[38;5;28mself\u001b[39m\u001b[38;5;241m.\u001b[39mmemory\u001b[38;5;241m.\u001b[39mbatch_size:\n\u001b[1;32m     17\u001b[0m     experiences \u001b[38;5;241m=\u001b[39m \u001b[38;5;28mself\u001b[39m\u001b[38;5;241m.\u001b[39mmemory\u001b[38;5;241m.\u001b[39msample()\n\u001b[0;32m---> 18\u001b[0m     \u001b[38;5;28mself\u001b[39m\u001b[38;5;241m.\u001b[39mlearn(experiences, gamma\u001b[38;5;241m=\u001b[39mgamma)\n",
      "Cell \u001b[0;32mIn[5], line 51\u001b[0m, in \u001b[0;36mDQNAgent.learn\u001b[0;34m(self, experiences, gamma)\u001b[0m\n\u001b[1;32m     48\u001b[0m \u001b[38;5;28mself\u001b[39m\u001b[38;5;241m.\u001b[39moptimizer\u001b[38;5;241m.\u001b[39mstep()\n\u001b[1;32m     50\u001b[0m \u001b[38;5;66;03m# Soft update target network parameters\u001b[39;00m\n\u001b[0;32m---> 51\u001b[0m \u001b[38;5;28mself\u001b[39m\u001b[38;5;241m.\u001b[39msoft_update(\u001b[38;5;28mself\u001b[39m\u001b[38;5;241m.\u001b[39mqnetwork_local, \u001b[38;5;28mself\u001b[39m\u001b[38;5;241m.\u001b[39mqnetwork_target, tau)\n",
      "Cell \u001b[0;32mIn[5], line 58\u001b[0m, in \u001b[0;36mDQNAgent.soft_update\u001b[0;34m(self, local_model, target_model, tau)\u001b[0m\n\u001b[1;32m     54\u001b[0m \u001b[38;5;250m\u001b[39m\u001b[38;5;124;03m\"\"\"Soft update model parameters.\u001b[39;00m\n\u001b[1;32m     55\u001b[0m \u001b[38;5;124;03mθ_target = τ*θ_local + (1 - τ)*θ_target\u001b[39;00m\n\u001b[1;32m     56\u001b[0m \u001b[38;5;124;03m\"\"\"\u001b[39;00m\n\u001b[1;32m     57\u001b[0m \u001b[38;5;28;01mfor\u001b[39;00m target_param, local_param \u001b[38;5;129;01min\u001b[39;00m \u001b[38;5;28mzip\u001b[39m(target_model\u001b[38;5;241m.\u001b[39mparameters(), local_model\u001b[38;5;241m.\u001b[39mparameters()):\n\u001b[0;32m---> 58\u001b[0m     target_param\u001b[38;5;241m.\u001b[39mdata\u001b[38;5;241m.\u001b[39mcopy_(tau \u001b[38;5;241m*\u001b[39m local_param\u001b[38;5;241m.\u001b[39mdata \u001b[38;5;241m+\u001b[39m (\u001b[38;5;241m1.0\u001b[39m \u001b[38;5;241m-\u001b[39m tau) \u001b[38;5;241m*\u001b[39m target_param\u001b[38;5;241m.\u001b[39mdata)\n",
      "\u001b[0;31mKeyboardInterrupt\u001b[0m: "
     ]
    }
   ],
   "source": [
    "#Runs the training DQN training loop\n",
    "scores, moving_avg_scores = dqn(n_episodes, max_t, eps_start, eps_end, eps_decay)\n",
    "\n",
    "# Plots the scores and moving averages\n",
    "plot_scores(scores, moving_avg_scores)\n",
    "\n",
    "#Creates a video rendering of the agent to see how it performs\n",
    "create_video(agent, env)"
   ]
  },
  {
   "cell_type": "markdown",
   "metadata": {},
   "source": [
    "# Discussion\n",
    "\n",
    "### Interpreting the result\n",
    "\n",
    "OK, you've given us quite a bit of tech informaiton above, now its time to tell us what to pay attention to in all that.  Think clearly about your results, decide on one main point and 2-4 secondary points you want us to understand. Highlight HOW your results support those points.  You probably want 2-5 sentences per point.\n",
    "\n",
    "### Limitations\n",
    "\n",
    "Are there any problems with the work?  For instance would more data change the nature of the problem? Would it be good to explore more hyperparams than you had time for?   \n",
    "\n",
    "### Ethics & Privacy\n",
    "\n",
    "If your project has obvious potential concerns with ethics or data privacy discuss that here.  Almost every ML project put into production can have ethical implications if you use your imagination. Use your imagination.\n",
    "\n",
    "Even if you can't come up with an obvious ethical concern that should be addressed, you should know that a large number of ML projects that go into producation have unintended consequences and ethical problems once in production. How will your team address these issues?\n",
    "\n",
    "Consider a tool to help you address the potential issues such as https://deon.drivendata.org\n",
    "\n",
    "### Conclusion\n",
    "\n",
    "Reiterate your main point and in just a few sentences tell us how your results support it. Mention how this work would fit in the background/context of other work in this field if you can. Suggest directions for future work if you want to."
   ]
  },
  {
   "cell_type": "markdown",
   "metadata": {},
   "source": [
    "# Footnotes\n",
    "<a name=\"lorenznote\"></a>1.[^](#lorenz): Lorenz, T. (9 Dec 2021) Birds Aren’t Real, or Are They? Inside a Gen Z Conspiracy Theory. *The New York Times*. https://www.nytimes.com/2021/12/09/technology/birds-arent-real-gen-z-misinformation.html<br> \n",
    "<a name=\"admonishnote\"></a>2.[^](#admonish): Also refs should be important to the background, not some randomly chosen vaguely related stuff. Include a web link if possible in refs as above.<br>\n",
    "<a name=\"sotanote\"></a>3.[^](#sota): Perhaps the current state of the art solution such as you see on [Papers with code](https://paperswithcode.com/sota). Or maybe not SOTA, but rather a standard textbook/Kaggle solution to this kind of problem\n"
   ]
  },
  {
   "cell_type": "code",
   "execution_count": null,
   "metadata": {},
   "outputs": [],
   "source": []
  }
 ],
 "metadata": {
  "kernelspec": {
   "display_name": "Python 3 (ipykernel)",
   "language": "python",
   "name": "python3"
  },
  "language_info": {
   "codemirror_mode": {
    "name": "ipython",
    "version": 3
   },
   "file_extension": ".py",
   "mimetype": "text/x-python",
   "name": "python",
   "nbconvert_exporter": "python",
   "pygments_lexer": "ipython3",
   "version": "3.1.-1"
  }
 },
 "nbformat": 4,
 "nbformat_minor": 2
}
